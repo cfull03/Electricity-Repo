{
 "cells": [
  {
   "cell_type": "code",
   "execution_count": 1,
   "id": "242ebe46-9b1a-469d-8a79-78ec95b37e99",
   "metadata": {},
   "outputs": [],
   "source": [
    "import numpy as np\n",
    "import pandas as pd\n",
    "import torch\n",
    "import torch.nn as nn\n",
    "from torch import Tensor\n",
    "from torch.nn import Module\n",
    "from torch.utils.data import Dataset, DataLoader, random_split\n",
    "from torch.optim import Optimizer\n",
    "from typing import Tuple, Union, Callable\n",
    "from tqdm import tqdm\n",
    "from sklearn.preprocessing import StandardScaler"
   ]
  },
  {
   "cell_type": "code",
   "execution_count": 2,
   "id": "019b4efa-946d-4633-8b6c-bcd9b89418c4",
   "metadata": {},
   "outputs": [
    {
     "name": "stdout",
     "output_type": "stream",
     "text": [
      "Index(['site area', 'water consumption', 'recycling rate', 'utilisation rate',\n",
      "       'air qality index', 'issue reolution time', 'resident count',\n",
      "       'electricity cost', 'electricity cost per resident',\n",
      "       'water_consumption_per_resident', 'recycling_efficency_rate',\n",
      "       'resource_intensity', 'resolution_efficiency', 'air_quality_impact',\n",
      "       'energy_efficiency', 'water_electricity_ratio', 'population_density',\n",
      "       'issue_per_utility', 'sustainability_score',\n",
      "       'structure type_Commercial', 'structure type_Industrial',\n",
      "       'structure type_Mixed-use', 'structure type_Residential'],\n",
      "      dtype='object')\n"
     ]
    }
   ],
   "source": [
    "df = pd.read_csv('Electricity Dataset.csv')\n",
    "print(df.columns)"
   ]
  },
  {
   "cell_type": "code",
   "execution_count": 3,
   "id": "0cece9fd-f97c-481c-af5b-7f6677cb1f1f",
   "metadata": {},
   "outputs": [],
   "source": [
    "features = df.drop('electricity cost', axis=1).values\n",
    "targets = df['electricity cost'].values"
   ]
  },
  {
   "cell_type": "code",
   "execution_count": 4,
   "id": "fecd2b77-5cce-4516-9f25-3a483d3cf353",
   "metadata": {},
   "outputs": [],
   "source": [
    "feature_scaler = StandardScaler()\n",
    "features = feature_scaler.fit_transform(features)\n",
    "\n",
    "target_scaler = StandardScaler()\n",
    "targets = target_scaler.fit_transform(targets.reshape(-1, 1)).flatten()"
   ]
  },
  {
   "cell_type": "code",
   "execution_count": 5,
   "id": "1b0371ed-4520-4a14-979c-c74b0a3bb6e2",
   "metadata": {},
   "outputs": [],
   "source": [
    "class ElectricityDataset(Dataset):\n",
    "    def __init__(self, features: Union[Tensor, list, np.ndarray], targets: Union[Tensor, list, np.ndarray]) -> None:\n",
    "        self.features: Tensor = torch.tensor(features, dtype=torch.float32)\n",
    "        self.targets: Tensor = torch.tensor(targets, dtype=torch.float32)\n",
    "\n",
    "    def __len__(self) -> int:\n",
    "        return len(self.features)\n",
    "\n",
    "    def __getitem__(self, idx: int) -> Tuple[Tensor, Tensor]:\n",
    "        return self.features[idx], self.targets[idx]"
   ]
  },
  {
   "cell_type": "code",
   "execution_count": 6,
   "id": "f01aed89-e60b-49cf-9eaf-5507aee16543",
   "metadata": {},
   "outputs": [],
   "source": [
    "dataset = ElectricityDataset(features, targets)"
   ]
  },
  {
   "cell_type": "code",
   "execution_count": 7,
   "id": "f3a103a8-d559-4c04-87ab-c51766549d2f",
   "metadata": {},
   "outputs": [],
   "source": [
    "total_size = len(dataset)\n",
    "\n",
    "train_size = int(0.8 * total_size)\n",
    "val_size = int(0.1 * total_size)\n",
    "test_size = total_size - train_size - val_size \n",
    "\n",
    "train_dataset, val_dataset, test_dataset = random_split(dataset, [train_size, val_size, test_size])"
   ]
  },
  {
   "cell_type": "code",
   "execution_count": 8,
   "id": "7340b8ed-d741-420a-a089-3702d19a5c40",
   "metadata": {},
   "outputs": [],
   "source": [
    "# Create DataLoaders\n",
    "train_loader = DataLoader(train_dataset, batch_size=32, shuffle=True)\n",
    "val_loader = DataLoader(val_dataset, batch_size=32, shuffle=False)\n",
    "test_loader = DataLoader(test_dataset, batch_size=32, shuffle=False)"
   ]
  },
  {
   "cell_type": "code",
   "execution_count": 9,
   "id": "4ab9e239-76f5-4c00-bc17-0539bbaa9fcc",
   "metadata": {},
   "outputs": [
    {
     "name": "stdout",
     "output_type": "stream",
     "text": [
      "Features batch shape: torch.Size([32, 22])\n",
      "Targets batch shape: torch.Size([32])\n",
      "First feature sample: tensor([ 0.4240, -0.3637, -0.8792,  0.6929, -0.9389,  0.0775,  0.4119, -0.8734,\n",
      "        -0.8715, -0.4902, -1.1074, -0.8822, -0.2058, -1.0549, -0.5087,  0.2312,\n",
      "        -0.0520, -0.1224, -0.6554, -0.3341,  1.9681, -0.8062])\n",
      "First target sample: tensor(0.0173)\n"
     ]
    }
   ],
   "source": [
    "data_iter = iter(train_loader)\n",
    "features_batch, targets_batch = next(data_iter)\n",
    "\n",
    "\n",
    "print(\"Features batch shape:\", features_batch.shape)\n",
    "print(\"Targets batch shape:\", targets_batch.shape)\n",
    "print(\"First feature sample:\", features_batch[0])\n",
    "print(\"First target sample:\", targets_batch[0])"
   ]
  },
  {
   "cell_type": "code",
   "execution_count": 10,
   "id": "ba88a6c6-f918-4ce5-a178-849893c6622b",
   "metadata": {},
   "outputs": [],
   "source": [
    "class FFNRegressor(nn.Module):\n",
    "    def __init__(self, input_dim: int) -> None:\n",
    "        super(FFNRegressor, self).__init__()\n",
    "        self.network = nn.Sequential(\n",
    "            nn.Linear(input_dim, 64),\n",
    "            nn.ReLU(),\n",
    "            nn.Linear(64, 32),\n",
    "            nn.ReLU(),\n",
    "            nn.Linear(32, 1)  # No activation for regression output\n",
    "        )\n",
    "\n",
    "    def forward(self, x: Tensor) -> Tensor:\n",
    "        return self.network(x).squeeze(1)"
   ]
  },
  {
   "cell_type": "code",
   "execution_count": 11,
   "id": "b3d7a43e-fb4b-4ddb-8772-a64ed101153e",
   "metadata": {},
   "outputs": [],
   "source": [
    "def train_model(\n",
    "    model: nn.Module,\n",
    "    train_loader: DataLoader,\n",
    "    val_loader: DataLoader,\n",
    "    loss_fn: Callable[[Tensor, Tensor], Tensor],\n",
    "    optimizer: Optimizer,\n",
    "    epochs: int,\n",
    "    device: torch.device = torch.device(\"cpu\")\n",
    ") -> None:\n",
    "    model.to(device)\n",
    "\n",
    "    for epoch in range(epochs):\n",
    "        model.train()\n",
    "        running_train_loss = 0.0\n",
    "        train_loop = tqdm(train_loader, desc=f\"Epoch {epoch+1}/{epochs}\", leave=False)\n",
    "\n",
    "        for batch_features, batch_targets in train_loop:\n",
    "            batch_features = batch_features.to(device)\n",
    "            batch_targets = batch_targets.to(device)\n",
    "\n",
    "            # Forward pass\n",
    "            outputs = model(batch_features)\n",
    "            loss = loss_fn(outputs, batch_targets)\n",
    "\n",
    "            # Backward and optimize\n",
    "            optimizer.zero_grad()\n",
    "            loss.backward()\n",
    "            optimizer.step()\n",
    "\n",
    "            running_train_loss += loss.item()\n",
    "            train_loop.set_postfix(train_loss=loss.item())\n",
    "\n",
    "        avg_train_loss = running_train_loss / len(train_loader)\n",
    "\n",
    "        # ---- Validation Loop ----\n",
    "        model.eval()\n",
    "        running_val_loss = 0.0\n",
    "        with torch.no_grad():\n",
    "            for val_features, val_targets in val_loader:\n",
    "                val_features = val_features.to(device)\n",
    "                val_targets = val_targets.to(device)\n",
    "\n",
    "                val_outputs = model(val_features)\n",
    "                val_loss = loss_fn(val_outputs, val_targets)\n",
    "                running_val_loss += val_loss.item()\n",
    "\n",
    "        avg_val_loss = running_val_loss / len(val_loader)\n",
    "\n",
    "        print(f\"Epoch {epoch+1}: Train Loss = {avg_train_loss:.4f} | Val Loss = {avg_val_loss:.4f}\")\n"
   ]
  },
  {
   "cell_type": "code",
   "execution_count": 12,
   "id": "af106ae5-0f8f-4541-b857-f28b128a9f19",
   "metadata": {},
   "outputs": [],
   "source": [
    "def predict_model(\n",
    "    model: nn.Module,\n",
    "    data_loader: DataLoader,\n",
    "    device: torch.device = torch.device(\"cpu\")\n",
    ") -> Tensor:\n",
    "    \"\"\"\n",
    "    Generates predictions from a trained model.\n",
    "\n",
    "    Args:\n",
    "        model (nn.Module): Trained PyTorch model.\n",
    "        data_loader (DataLoader): DataLoader for input features.\n",
    "        device (torch.device): Device to run predictions on. Default is CPU.\n",
    "\n",
    "    Returns:\n",
    "        Tensor: Predictions concatenated across all batches.\n",
    "    \"\"\"\n",
    "    model.eval()\n",
    "    model.to(device)\n",
    "    predictions = []\n",
    "\n",
    "    with torch.no_grad():\n",
    "        for features, _ in data_loader:  # targets not needed for prediction\n",
    "            features = features.to(device)\n",
    "            outputs = model(features)\n",
    "            predictions.append(outputs.cpu())\n",
    "\n",
    "    return torch.cat(predictions, dim=0)\n"
   ]
  },
  {
   "cell_type": "code",
   "execution_count": 13,
   "id": "d950e58a-96ab-48dd-80f6-49f177e2cd38",
   "metadata": {},
   "outputs": [],
   "source": [
    "def save_model(model: Module, filename: Union[str, None] = \"model.pth\") -> None:\n",
    "    \"\"\"\n",
    "    Saves a PyTorch model to a specified file.\n",
    "\n",
    "    Args:\n",
    "        model (Module): The trained PyTorch model to save.\n",
    "        filename (str): The filename to save the model to. Defaults to 'model.pth'.\n",
    "    \"\"\"\n",
    "    torch.save(model.state_dict(), filename)\n",
    "    print(f\"Model saved to: {filename}\")"
   ]
  },
  {
   "cell_type": "code",
   "execution_count": 14,
   "id": "5b540980-db5e-48c1-a0cb-7b8d53ab6d08",
   "metadata": {},
   "outputs": [],
   "source": [
    "def load_model(model_class: type[Module], input_dim: int, filename: Union[str, None] = \"model.pth\") -> Module:\n",
    "    \"\"\"\n",
    "    Loads a model from a specified file and returns the model with weights loaded.\n",
    "\n",
    "    Args:\n",
    "        model_class (type[Module]): The model class to instantiate.\n",
    "        input_dim (int): The input dimension for the model constructor.\n",
    "        filename (str): The filename to load the model from. Defaults to 'model.pth'.\n",
    "\n",
    "    Returns:\n",
    "        Module: The model with loaded weights.\n",
    "    \"\"\"\n",
    "    model = model_class(input_dim)\n",
    "    model.load_state_dict(torch.load(filename))\n",
    "    model.eval()\n",
    "    print(f\"Model loaded from: {filename}\")\n",
    "    return model"
   ]
  },
  {
   "cell_type": "code",
   "execution_count": 15,
   "id": "062d6321-4f83-42e8-8c68-76a627798ebb",
   "metadata": {},
   "outputs": [],
   "source": [
    "model = FFNRegressor(input_dim=features.shape[1])\n",
    "loss_fn = nn.MSELoss()\n",
    "optimizer = torch.optim.Adam(model.parameters(), lr=0.001)"
   ]
  },
  {
   "cell_type": "code",
   "execution_count": 16,
   "id": "0ba6cf93-9469-4a1d-aa79-f8c2fa19cfa8",
   "metadata": {},
   "outputs": [
    {
     "name": "stderr",
     "output_type": "stream",
     "text": [
      "                                                                                \r"
     ]
    },
    {
     "name": "stdout",
     "output_type": "stream",
     "text": [
      "Epoch 1: Train Loss = 0.1673 | Val Loss = 0.0181\n"
     ]
    },
    {
     "name": "stderr",
     "output_type": "stream",
     "text": [
      "                                                                                \r"
     ]
    },
    {
     "name": "stdout",
     "output_type": "stream",
     "text": [
      "Epoch 2: Train Loss = 0.0129 | Val Loss = 0.0093\n"
     ]
    },
    {
     "name": "stderr",
     "output_type": "stream",
     "text": [
      "                                                                                \r"
     ]
    },
    {
     "name": "stdout",
     "output_type": "stream",
     "text": [
      "Epoch 3: Train Loss = 0.0067 | Val Loss = 0.0052\n"
     ]
    },
    {
     "name": "stderr",
     "output_type": "stream",
     "text": [
      "                                                                                \r"
     ]
    },
    {
     "name": "stdout",
     "output_type": "stream",
     "text": [
      "Epoch 4: Train Loss = 0.0046 | Val Loss = 0.0039\n"
     ]
    },
    {
     "name": "stderr",
     "output_type": "stream",
     "text": [
      "                                                                                \r"
     ]
    },
    {
     "name": "stdout",
     "output_type": "stream",
     "text": [
      "Epoch 5: Train Loss = 0.0037 | Val Loss = 0.0041\n"
     ]
    },
    {
     "name": "stderr",
     "output_type": "stream",
     "text": [
      "                                                                                \r"
     ]
    },
    {
     "name": "stdout",
     "output_type": "stream",
     "text": [
      "Epoch 6: Train Loss = 0.0030 | Val Loss = 0.0031\n"
     ]
    },
    {
     "name": "stderr",
     "output_type": "stream",
     "text": [
      "                                                                                \r"
     ]
    },
    {
     "name": "stdout",
     "output_type": "stream",
     "text": [
      "Epoch 7: Train Loss = 0.0028 | Val Loss = 0.0031\n"
     ]
    },
    {
     "name": "stderr",
     "output_type": "stream",
     "text": [
      "                                                                                \r"
     ]
    },
    {
     "name": "stdout",
     "output_type": "stream",
     "text": [
      "Epoch 8: Train Loss = 0.0023 | Val Loss = 0.0028\n"
     ]
    },
    {
     "name": "stderr",
     "output_type": "stream",
     "text": [
      "                                                                                \r"
     ]
    },
    {
     "name": "stdout",
     "output_type": "stream",
     "text": [
      "Epoch 9: Train Loss = 0.0022 | Val Loss = 0.0024\n"
     ]
    },
    {
     "name": "stderr",
     "output_type": "stream",
     "text": [
      "                                                                                \r"
     ]
    },
    {
     "name": "stdout",
     "output_type": "stream",
     "text": [
      "Epoch 10: Train Loss = 0.0020 | Val Loss = 0.0024\n"
     ]
    }
   ],
   "source": [
    "train_model(\n",
    "    model=model,\n",
    "    train_loader=train_loader,\n",
    "    val_loader=val_loader,\n",
    "    loss_fn=loss_fn,\n",
    "    optimizer=optimizer,\n",
    "    epochs=10\n",
    ")"
   ]
  },
  {
   "cell_type": "code",
   "execution_count": null,
   "id": "ec046179-75e4-45e7-a8ea-58991a4f0c27",
   "metadata": {},
   "outputs": [],
   "source": []
  }
 ],
 "metadata": {
  "kernelspec": {
   "display_name": "Python 3 (ipykernel)",
   "language": "python",
   "name": "python3"
  },
  "language_info": {
   "codemirror_mode": {
    "name": "ipython",
    "version": 3
   },
   "file_extension": ".py",
   "mimetype": "text/x-python",
   "name": "python",
   "nbconvert_exporter": "python",
   "pygments_lexer": "ipython3",
   "version": "3.12.7"
  }
 },
 "nbformat": 4,
 "nbformat_minor": 5
}
